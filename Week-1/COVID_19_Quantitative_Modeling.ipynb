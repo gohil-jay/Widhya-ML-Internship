{
  "nbformat": 4,
  "nbformat_minor": 0,
  "metadata": {
    "colab": {
      "name": "COVID 19 Quantitative Modeling.ipynb",
      "provenance": [],
      "collapsed_sections": []
    },
    "kernelspec": {
      "name": "python3",
      "display_name": "Python 3"
    }
  },
  "cells": [
    {
      "cell_type": "markdown",
      "metadata": {
        "id": "RvncQgCtApof"
      },
      "source": [
        "# **Quantitative Modeling Python**\n",
        "\n",
        "by Jay Gohil\n",
        "\n",
        "---"
      ]
    },
    {
      "cell_type": "markdown",
      "metadata": {
        "id": "RJ3fjnxUo_ui"
      },
      "source": [
        "# **Importing necessary libraries**\n",
        "\n",
        "---"
      ]
    },
    {
      "cell_type": "code",
      "metadata": {
        "id": "7Pz7mv0CL4JI"
      },
      "source": [
        "import os\n",
        "import csv\n",
        "import matplotlib\n",
        "from matplotlib import pyplot as plt\n",
        "import numpy as np\n",
        "import pandas as pd"
      ],
      "execution_count": 14,
      "outputs": []
    },
    {
      "cell_type": "markdown",
      "metadata": {
        "id": "rKAViMMVpPyc"
      },
      "source": [
        "# **Loading the dataset**\n",
        "\n",
        "---"
      ]
    },
    {
      "cell_type": "code",
      "metadata": {
        "colab": {
          "base_uri": "https://localhost:8080/",
          "height": 520
        },
        "id": "aiL36DuYLfda",
        "outputId": "ffada32a-e890-4f56-a908-f6cba80f1b26"
      },
      "source": [
        "#Reading CSV file\n",
        "df = pd.read_csv('https://raw.githubusercontent.com/gohil-jay/Widhya-ML-Internship/main/Week-1/covid19.csv')\n",
        "\n",
        "#Displaying top of CSV\n",
        "df.head(15)"
      ],
      "execution_count": 4,
      "outputs": [
        {
          "output_type": "execute_result",
          "data": {
            "text/html": [
              "<div>\n",
              "<style scoped>\n",
              "    .dataframe tbody tr th:only-of-type {\n",
              "        vertical-align: middle;\n",
              "    }\n",
              "\n",
              "    .dataframe tbody tr th {\n",
              "        vertical-align: top;\n",
              "    }\n",
              "\n",
              "    .dataframe thead th {\n",
              "        text-align: right;\n",
              "    }\n",
              "</style>\n",
              "<table border=\"1\" class=\"dataframe\">\n",
              "  <thead>\n",
              "    <tr style=\"text-align: right;\">\n",
              "      <th></th>\n",
              "      <th>Sno</th>\n",
              "      <th>Date</th>\n",
              "      <th>State/UnionTerritory</th>\n",
              "      <th>ConfirmedIndianNational</th>\n",
              "      <th>ConfirmedForeignNational</th>\n",
              "      <th>Cured</th>\n",
              "      <th>Deaths</th>\n",
              "    </tr>\n",
              "  </thead>\n",
              "  <tbody>\n",
              "    <tr>\n",
              "      <th>0</th>\n",
              "      <td>1</td>\n",
              "      <td>30/01/20</td>\n",
              "      <td>Kerala</td>\n",
              "      <td>1</td>\n",
              "      <td>0</td>\n",
              "      <td>0</td>\n",
              "      <td>0</td>\n",
              "    </tr>\n",
              "    <tr>\n",
              "      <th>1</th>\n",
              "      <td>2</td>\n",
              "      <td>31/01/20</td>\n",
              "      <td>Kerala</td>\n",
              "      <td>1</td>\n",
              "      <td>0</td>\n",
              "      <td>0</td>\n",
              "      <td>0</td>\n",
              "    </tr>\n",
              "    <tr>\n",
              "      <th>2</th>\n",
              "      <td>3</td>\n",
              "      <td>01/02/20</td>\n",
              "      <td>Kerala</td>\n",
              "      <td>2</td>\n",
              "      <td>0</td>\n",
              "      <td>0</td>\n",
              "      <td>0</td>\n",
              "    </tr>\n",
              "    <tr>\n",
              "      <th>3</th>\n",
              "      <td>4</td>\n",
              "      <td>02/02/20</td>\n",
              "      <td>Kerala</td>\n",
              "      <td>3</td>\n",
              "      <td>0</td>\n",
              "      <td>0</td>\n",
              "      <td>0</td>\n",
              "    </tr>\n",
              "    <tr>\n",
              "      <th>4</th>\n",
              "      <td>5</td>\n",
              "      <td>03/02/20</td>\n",
              "      <td>Kerala</td>\n",
              "      <td>3</td>\n",
              "      <td>0</td>\n",
              "      <td>0</td>\n",
              "      <td>0</td>\n",
              "    </tr>\n",
              "    <tr>\n",
              "      <th>5</th>\n",
              "      <td>6</td>\n",
              "      <td>04/02/20</td>\n",
              "      <td>Kerala</td>\n",
              "      <td>3</td>\n",
              "      <td>0</td>\n",
              "      <td>0</td>\n",
              "      <td>0</td>\n",
              "    </tr>\n",
              "    <tr>\n",
              "      <th>6</th>\n",
              "      <td>7</td>\n",
              "      <td>05/02/20</td>\n",
              "      <td>Kerala</td>\n",
              "      <td>3</td>\n",
              "      <td>0</td>\n",
              "      <td>0</td>\n",
              "      <td>0</td>\n",
              "    </tr>\n",
              "    <tr>\n",
              "      <th>7</th>\n",
              "      <td>8</td>\n",
              "      <td>06/02/20</td>\n",
              "      <td>Kerala</td>\n",
              "      <td>3</td>\n",
              "      <td>0</td>\n",
              "      <td>0</td>\n",
              "      <td>0</td>\n",
              "    </tr>\n",
              "    <tr>\n",
              "      <th>8</th>\n",
              "      <td>9</td>\n",
              "      <td>07/02/20</td>\n",
              "      <td>Kerala</td>\n",
              "      <td>3</td>\n",
              "      <td>0</td>\n",
              "      <td>0</td>\n",
              "      <td>0</td>\n",
              "    </tr>\n",
              "    <tr>\n",
              "      <th>9</th>\n",
              "      <td>10</td>\n",
              "      <td>08/02/20</td>\n",
              "      <td>Kerala</td>\n",
              "      <td>3</td>\n",
              "      <td>0</td>\n",
              "      <td>0</td>\n",
              "      <td>0</td>\n",
              "    </tr>\n",
              "    <tr>\n",
              "      <th>10</th>\n",
              "      <td>11</td>\n",
              "      <td>09/02/20</td>\n",
              "      <td>Kerala</td>\n",
              "      <td>3</td>\n",
              "      <td>0</td>\n",
              "      <td>0</td>\n",
              "      <td>0</td>\n",
              "    </tr>\n",
              "    <tr>\n",
              "      <th>11</th>\n",
              "      <td>12</td>\n",
              "      <td>10/02/20</td>\n",
              "      <td>Kerala</td>\n",
              "      <td>3</td>\n",
              "      <td>0</td>\n",
              "      <td>0</td>\n",
              "      <td>0</td>\n",
              "    </tr>\n",
              "    <tr>\n",
              "      <th>12</th>\n",
              "      <td>13</td>\n",
              "      <td>11/02/20</td>\n",
              "      <td>Kerala</td>\n",
              "      <td>3</td>\n",
              "      <td>0</td>\n",
              "      <td>0</td>\n",
              "      <td>0</td>\n",
              "    </tr>\n",
              "    <tr>\n",
              "      <th>13</th>\n",
              "      <td>14</td>\n",
              "      <td>12/02/20</td>\n",
              "      <td>Kerala</td>\n",
              "      <td>3</td>\n",
              "      <td>0</td>\n",
              "      <td>0</td>\n",
              "      <td>0</td>\n",
              "    </tr>\n",
              "    <tr>\n",
              "      <th>14</th>\n",
              "      <td>15</td>\n",
              "      <td>13/02/20</td>\n",
              "      <td>Kerala</td>\n",
              "      <td>3</td>\n",
              "      <td>0</td>\n",
              "      <td>0</td>\n",
              "      <td>0</td>\n",
              "    </tr>\n",
              "  </tbody>\n",
              "</table>\n",
              "</div>"
            ],
            "text/plain": [
              "    Sno      Date State/UnionTerritory  ...  ConfirmedForeignNational  Cured  Deaths\n",
              "0     1  30/01/20               Kerala  ...                         0      0       0\n",
              "1     2  31/01/20               Kerala  ...                         0      0       0\n",
              "2     3  01/02/20               Kerala  ...                         0      0       0\n",
              "3     4  02/02/20               Kerala  ...                         0      0       0\n",
              "4     5  03/02/20               Kerala  ...                         0      0       0\n",
              "5     6  04/02/20               Kerala  ...                         0      0       0\n",
              "6     7  05/02/20               Kerala  ...                         0      0       0\n",
              "7     8  06/02/20               Kerala  ...                         0      0       0\n",
              "8     9  07/02/20               Kerala  ...                         0      0       0\n",
              "9    10  08/02/20               Kerala  ...                         0      0       0\n",
              "10   11  09/02/20               Kerala  ...                         0      0       0\n",
              "11   12  10/02/20               Kerala  ...                         0      0       0\n",
              "12   13  11/02/20               Kerala  ...                         0      0       0\n",
              "13   14  12/02/20               Kerala  ...                         0      0       0\n",
              "14   15  13/02/20               Kerala  ...                         0      0       0\n",
              "\n",
              "[15 rows x 7 columns]"
            ]
          },
          "metadata": {},
          "execution_count": 4
        }
      ]
    },
    {
      "cell_type": "markdown",
      "metadata": {
        "id": "rkdTSWDUpYzZ"
      },
      "source": [
        "# **Modeling**\n",
        "\n",
        "---"
      ]
    },
    {
      "cell_type": "code",
      "metadata": {
        "id": "r1KrvHtHLl2L",
        "colab": {
          "base_uri": "https://localhost:8080/",
          "height": 462
        },
        "outputId": "86e2b4a4-afb9-40b7-cf2b-943c08d45986"
      },
      "source": [
        "path = '/content/drive/MyDrive/Colab Notebooks/Python Workshop/covid19.csv'\n",
        "\n",
        "with open(path, 'r') as csvfile:\n",
        "    csvreader = csv.reader(csvfile, delimiter=',')\n",
        "    next(csvfile, None)\n",
        "\n",
        "    a = [\"04/03/20\",\"05/03/20\",\"06/03/20\",\"07/03/20\",\"08/03/20\",\"09/03/20\",\"10/03/20\",\"11/03/20\",\"12/03/20\",\"13/03/20\",\"14/03/20\",\"15/03/20\",\"16/03/20\",\"17/03/20\",\"18/03/20\",\"19/03/20\",\"20/03/20\",\"21/03/20\"]\n",
        "    b = [] #For storing total number of cases for all dates.\n",
        "    for i in range(len(a)):\n",
        "        b.append(0)\n",
        "    c = [] #For storing all R(s)\n",
        "    \n",
        "    for row in csvreader:\n",
        "        for i in range(0,len(a)):\n",
        "            if (row[1] == a[i]):\n",
        "                t = 0\n",
        "                t += float(row[3])\n",
        "                t += float(row[4])\n",
        "                t += float(row[5])\n",
        "                t += float(row[6])\n",
        "                b[i] += t\n",
        "    #print(b)\n",
        "\n",
        "    #Calculating r for all dates and storing them in c[]\n",
        "    for i in range(0,len(b)-1):\n",
        "        x = float((b[i+1]-b[i])/b[i])\n",
        "        c.append(x)    \n",
        "    #print(c)\n",
        "\n",
        "    #Calculating the average 'r'\n",
        "    k = 0.00\n",
        "    for i in c:\n",
        "        k += i\n",
        "    r = k/len(c)\n",
        "    #print(r)\n",
        "\n",
        "    #Calculating Pt\n",
        "    Po = 31\n",
        "    time = 26\n",
        "    Pt = (Po*(2.71828*(r*time)))\n",
        "    print(\"The value of Pt :\", Pt)\n",
        "\n",
        "    d = c\n",
        "    d.append(0) #For rectifying r value on 21st March (as data on 22nd March is not available)\n",
        "\n",
        "    #For visulaizing the results..\n",
        "    matplotlib.pyplot.figure(figsize=(18, 6), dpi=80)\n",
        "    plt.plot(a, d)\n",
        "    plt.xlabel('date')\n",
        "    plt.ylabel('r Value')\n",
        "    plt.title('Date Vs. r-value plot')\n",
        "    plt.grid(True)\n",
        "    plt.savefig(\"Task4.png\")\n",
        "    plt.show()"
      ],
      "execution_count": 19,
      "outputs": [
        {
          "output_type": "stream",
          "name": "stdout",
          "text": [
            "The value of Pt : 324.5825259483184\n"
          ]
        },
        {
          "output_type": "display_data",
          "data": {
            "image/png": "[encoded data removed]",
            "text/plain": [
              "<Figure size 1440x480 with 1 Axes>"
            ]
          },
          "metadata": {
            "needs_background": "light"
          }
        }
      ]
    },
    {
      "cell_type": "markdown",
      "metadata": {
        "id": "DqEGMd5yqkCK"
      },
      "source": [
        "# **Thank you!**\n",
        "\n",
        "---"
      ]
    }
  ]
}